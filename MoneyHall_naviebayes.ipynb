{
 "cells": [
  {
   "cell_type": "code",
   "execution_count": 1,
   "metadata": {},
   "outputs": [],
   "source": [
    "import numpy as np\n",
    "import random\n",
    "import pandas as pd"
   ]
  },
  {
   "cell_type": "code",
   "execution_count": 2,
   "metadata": {},
   "outputs": [],
   "source": [
    "def select_num(x):\n",
    "    \n",
    "    '''\n",
    "    要选的数字\n",
    "    '''\n",
    "    \n",
    "    return x\n",
    "\n",
    "def true_num():\n",
    "    \n",
    "    '''\n",
    "    真正的数字\n",
    "    '''\n",
    "    \n",
    "    return np.random.randint(1,5)\n",
    "\n",
    "def false_num(true_num,select_num):\n",
    "    \n",
    "    '''\n",
    "    支持人给错误答案\n",
    "    '''\n",
    "    \n",
    "    x = [1,2,3,4]\n",
    "    temp = list({true_num,select_num})\n",
    "    for i in temp:\n",
    "        x.remove(i)\n",
    "    random.shuffle(x)\n",
    "    return x[0]\n",
    "def left_num(select_num,false_num):\n",
    "    \n",
    "    '''\n",
    "    剩下的数字\n",
    "    '''\n",
    "    \n",
    "    x = [1,2,3,4]\n",
    "    x.remove(false_num)\n",
    "    return x\n",
    "\n",
    "def is_changed(x,select_num,left_num):\n",
    "    \n",
    "    '''\n",
    "    是否换数字了\n",
    "    '''\n",
    "    \n",
    "    if x==0:#没换\n",
    "        return select_num\n",
    "    else:\n",
    "        left_num.remove(select_num)\n",
    "        return left_num[0]"
   ]
  },
  {
   "cell_type": "code",
   "execution_count": 3,
   "metadata": {},
   "outputs": [],
   "source": [
    "p = []\n",
    "for i in range(1000):\n",
    "    select_n = select_num(1)\n",
    "    true_n = true_num()\n",
    "    false_n = false_num(true_n,select_n)\n",
    "    left_n = left_num(select_n,false_n)\n",
    "    no_change = is_changed(0,select_n,left_n)\n",
    "    if no_change==true_n:\n",
    "        p.append(1)\n",
    "    else:\n",
    "        p.append(0)"
   ]
  },
  {
   "cell_type": "code",
   "execution_count": 4,
   "metadata": {},
   "outputs": [
    {
     "data": {
      "text/plain": [
       "0.336"
      ]
     },
     "execution_count": 4,
     "metadata": {},
     "output_type": "execute_result"
    }
   ],
   "source": [
    "pd.DataFrame(p)[0].sum()/len(p)"
   ]
  }
 ],
 "metadata": {
  "kernelspec": {
   "display_name": "Python 3",
   "language": "python",
   "name": "python3"
  },
  "language_info": {
   "codemirror_mode": {
    "name": "ipython",
    "version": 3
   },
   "file_extension": ".py",
   "mimetype": "text/x-python",
   "name": "python",
   "nbconvert_exporter": "python",
   "pygments_lexer": "ipython3",
   "version": "3.6.3"
  },
  "toc": {
   "nav_menu": {},
   "number_sections": true,
   "sideBar": true,
   "skip_h1_title": false,
   "toc_cell": false,
   "toc_position": {},
   "toc_section_display": "block",
   "toc_window_display": false
  }
 },
 "nbformat": 4,
 "nbformat_minor": 2
}
